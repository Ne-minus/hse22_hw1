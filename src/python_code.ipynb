{
 "cells": [
  {
   "cell_type": "code",
   "execution_count": 26,
   "id": "78a89bee",
   "metadata": {},
   "outputs": [],
   "source": [
    "import re"
   ]
  },
  {
   "cell_type": "code",
   "execution_count": 38,
   "id": "81ba25ab",
   "metadata": {},
   "outputs": [],
   "source": [
    "def stats(filename, stattype, prints):\n",
    "    with open(filename, 'r', encoding='utf-8') as file:\n",
    "        sequences = file.read()\n",
    "        \n",
    "    all_lengths = []\n",
    "    whole_length = 0\n",
    "    index = 0\n",
    "    maximum = 0\n",
    "    length = 0\n",
    "    sequence = ''\n",
    "    maximum_seq = ''\n",
    "    \n",
    "    for string in sequences:\n",
    "        if string[0].startswith('>') is True:\n",
    "            if index != 0:\n",
    "                all_lengths.append(length)\n",
    "            index += 1\n",
    "            if length >= maximum:\n",
    "                maximum_seq = sequence\n",
    "                maximum = length\n",
    "            sequence = ''\n",
    "            length = 0\n",
    "        else:\n",
    "            no_spaces = string.strip('\\n') #cleaning from spaces\n",
    "            nice_string = re.sub(r'scaffold(.+)[0-9]', '', no_spaces) #to get ATCG sequences only\n",
    "            sequence += nice_string\n",
    "            length += len(nice_string)\n",
    "            whole_length += len(nice_string)\n",
    "            \n",
    "    if prints is True:\n",
    "        print(f'Статистика: {stattype}', f'Общее количество: {index}', \n",
    "              f'Общая длина: {whole_length}', f'Длина самого длинного: {maximum}', sep='\\n')\n",
    "    \n",
    "    counter = 0\n",
    "    for ln in sorted(all_lengths, reverse=True):\n",
    "        counter += ln\n",
    "        if prints is True:\n",
    "            if counter >= whole_length // 2:\n",
    "                print(f'N50: {ln}', '---------------------------', sep='\\n')\n",
    "                break\n",
    "    return re.sub(r'scaffold(.+)[0-9]', '', maximum_seq)"
   ]
  },
  {
   "cell_type": "markdown",
   "id": "05450b1c",
   "metadata": {},
   "source": [
    "# Статистика. Основное задание"
   ]
  },
  {
   "cell_type": "code",
   "execution_count": 40,
   "id": "abc91de5",
   "metadata": {
    "scrolled": true
   },
   "outputs": [
    {
     "name": "stdout",
     "output_type": "stream",
     "text": [
      "Статистика: контиги\n",
      "Общее количество: 608\n",
      "Общая длина: 3937292\n",
      "Длина самого длинного: 179329\n",
      "N50: 55060\n",
      "---------------------------\n",
      "Статистика: скаффолды\n",
      "Общее количество: 69\n",
      "Общая длина: 3878004\n",
      "Длина самого длинного: 3831924\n",
      "N50: 3831924\n",
      "---------------------------\n"
     ]
    }
   ],
   "source": [
    "result_contigs, result_scaffolds = stats('./contigs.fa', 'контиги', True), stats('./scaffolds.fa', 'скаффолды', True)"
   ]
  },
  {
   "cell_type": "markdown",
   "id": "db47b3bd",
   "metadata": {},
   "source": [
    "Функция для подсчета гэпов."
   ]
  },
  {
   "cell_type": "code",
   "execution_count": 56,
   "id": "d7558730",
   "metadata": {},
   "outputs": [],
   "source": [
    "def gap_counter(filename, filetype):\n",
    "    sequence = stats(filename, filetype, False)\n",
    "    all_gaps = re.findall(r'N{2,}', sequence)\n",
    "    total = 0\n",
    "    for gap in all_gaps:\n",
    "        total += len(gap)\n",
    "    print(f'Гэпы: {filetype}', f'Количество:{len(all_gaps)}', f'Общая длина:{total}', sep='\\n')"
   ]
  },
  {
   "cell_type": "code",
   "execution_count": 57,
   "id": "ccebb6d1",
   "metadata": {},
   "outputs": [
    {
     "name": "stdout",
     "output_type": "stream",
     "text": [
      "Гэпы: no gap closed\n",
      "Количество:61\n",
      "Общая длина:6062\n"
     ]
    }
   ],
   "source": [
    "no_gapclosed = gap_counter('./scaffolds.fa', 'no gap closed')"
   ]
  },
  {
   "cell_type": "code",
   "execution_count": 53,
   "id": "048aae07",
   "metadata": {},
   "outputs": [
    {
     "name": "stdout",
     "output_type": "stream",
     "text": [
      "Гэпы: gap closed\n",
      "Количество:7\n",
      "Общая длина:1237\n"
     ]
    }
   ],
   "source": [
    "gap_closed = gap_counter('./gapclosed.fa', 'gap closed')"
   ]
  },
  {
   "cell_type": "code",
   "execution_count": 59,
   "id": "910e918c",
   "metadata": {},
   "outputs": [],
   "source": [
    "with open('longest_scaffold.fa', 'w', encoding='utf-8') as file:\n",
    "    file.write(result_scaffolds)"
   ]
  },
  {
   "cell_type": "markdown",
   "id": "034d7ffd",
   "metadata": {},
   "source": [
    "# Статистика. Дополнительное задание"
   ]
  },
  {
   "cell_type": "code",
   "execution_count": 60,
   "id": "58105183",
   "metadata": {
    "scrolled": true
   },
   "outputs": [
    {
     "name": "stdout",
     "output_type": "stream",
     "text": [
      "Статистика: контиги\n",
      "Общее количество: 3502\n",
      "Общая длина: 3987544\n",
      "Длина самого длинного: 26323\n",
      "N50: 4027\n",
      "---------------------------\n",
      "Статистика: скаффолды\n",
      "Общее количество: 477\n",
      "Общая длина: 3880310\n",
      "Длина самого длинного: 1237896\n",
      "N50: 603580\n",
      "---------------------------\n"
     ]
    }
   ],
   "source": [
    "new_contigs, new_scaffolds = stats('./contigs_bonus.fa', 'контиги', True), stats('./scaffolds_bonus.fa', 'скаффолды', True)"
   ]
  },
  {
   "cell_type": "code",
   "execution_count": 62,
   "id": "1b90a6a2",
   "metadata": {},
   "outputs": [
    {
     "name": "stdout",
     "output_type": "stream",
     "text": [
      "Гэпы: contigs\n",
      "Количество:0\n",
      "Общая длина:0\n"
     ]
    }
   ],
   "source": [
    "contig_gaps = gap_counter('./contigs_bonus.fa', 'contigs')"
   ]
  },
  {
   "cell_type": "code",
   "execution_count": 63,
   "id": "542ae2c2",
   "metadata": {},
   "outputs": [
    {
     "name": "stdout",
     "output_type": "stream",
     "text": [
      "Гэпы: no gap_closed\n",
      "Количество:575\n",
      "Общая длина:26142\n"
     ]
    }
   ],
   "source": [
    "scaffold_gaps = gap_counter('./scaffolds_bonus.fa', 'no gap_closed')"
   ]
  },
  {
   "cell_type": "code",
   "execution_count": 64,
   "id": "57855386",
   "metadata": {},
   "outputs": [
    {
     "name": "stdout",
     "output_type": "stream",
     "text": [
      "Гэпы: gap_closed\n",
      "Количество:34\n",
      "Общая длина:10017\n"
     ]
    }
   ],
   "source": [
    "gapclosed_gaps = gap_counter('./gapclosed_bonus.fa', 'gap_closed')"
   ]
  },
  {
   "cell_type": "code",
   "execution_count": 61,
   "id": "329269cf",
   "metadata": {},
   "outputs": [],
   "source": [
    "with open('longest_scaffold_bonus.fa', 'w', encoding='utf-8') as file:\n",
    "    file.write(new_scaffolds)"
   ]
  }
 ],
 "metadata": {
  "kernelspec": {
   "display_name": "Python 3 (ipykernel)",
   "language": "python",
   "name": "python3"
  },
  "language_info": {
   "codemirror_mode": {
    "name": "ipython",
    "version": 3
   },
   "file_extension": ".py",
   "mimetype": "text/x-python",
   "name": "python",
   "nbconvert_exporter": "python",
   "pygments_lexer": "ipython3",
   "version": "3.8.5"
  }
 },
 "nbformat": 4,
 "nbformat_minor": 5
}
